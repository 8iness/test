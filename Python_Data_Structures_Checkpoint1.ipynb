{
  "nbformat": 4,
  "nbformat_minor": 0,
  "metadata": {
    "colab": {
      "provenance": [],
      "authorship_tag": "ABX9TyP9xpI/W52PDnmAcNF+HEZP",
      "include_colab_link": true
    },
    "kernelspec": {
      "name": "python3",
      "display_name": "Python 3"
    },
    "language_info": {
      "name": "python"
    }
  },
  "cells": [
    {
      "cell_type": "markdown",
      "metadata": {
        "id": "view-in-github",
        "colab_type": "text"
      },
      "source": [
        "<a href=\"https://colab.research.google.com/github/8iness/test/blob/main/Python_Data_Structures_Checkpoint1.ipynb\" target=\"_parent\"><img src=\"https://colab.research.google.com/assets/colab-badge.svg\" alt=\"Open In Colab\"/></a>"
      ]
    },
    {
      "cell_type": "markdown",
      "source": [
        "Créez un programme qui permet à l'utilisateur de gérer sa liste de courses. L'utilisateur doit pouvoir ajouter des articles à la liste, supprimer des articles et afficher la liste actuelle des articles.\n",
        "\n",
        "Créer une liste vide appelée shopping_list qui sera utilisée pour stocker les articles ajoutés par l'utilisateur. Utiliser une boucle while pour créer un menu d’options permettant à l’utilisateur d’ajouter, de supprimer ou d’afficher des éléments de la liste,Cette partie du code permet à l'utilisateur d'ajouter des articles à la liste jusqu'à ce qu'il entre \"no\". Chaque nouvel article est ajouté à shopping_list et la liste est affichée après chaque ajout."
      ],
      "metadata": {
        "id": "nyyvrBDs15z8"
      }
    },
    {
      "cell_type": "code",
      "source": [
        "#1/Créez une liste nommée « shopping_list » pour stocker les articles.\n",
        "shopping_list = []\n",
        "while True:\n",
        "  item = input(\"Enter an item to add to the shopping list (or 'no' to stop): \")\n",
        "  if item == \"no\":\n",
        "       break\n",
        "  shopping_list.append(item)\n",
        "  #print(f\"Your shopping list: {shopping_list_str}\")\n",
        "  print(\"Your shopping list:\")\n",
        "  for item in shopping_list:\n",
        "    print(item)"
      ],
      "metadata": {
        "colab": {
          "base_uri": "https://localhost:8080/"
        },
        "id": "QI6I49dz18Pq",
        "outputId": "6506c599-bc28-4bdc-8cae-e86975aa66e7"
      },
      "execution_count": null,
      "outputs": [
        {
          "name": "stdout",
          "output_type": "stream",
          "text": [
            "Enter an item to add to the shopping list (or 'no' to stop): water\n",
            "Your shopping list:\n",
            "water\n",
            "Enter an item to add to the shopping list (or 'no' to stop): no\n"
          ]
        }
      ]
    },
    {
      "cell_type": "markdown",
      "source": [
        "-Utiliser la fonction \"input()\" pour inviter l'utilisateur à faire une sélection dans le menu.\n",
        "-Utiliser un bloc if-elif-else pour déterminer la sélection de l'utilisateur et effectuer l'action correspondante.\n",
        "- Utiliser une boucle for pour parcourir la liste des éléments et les afficher à l'utilisateur."
      ],
      "metadata": {
        "id": "PO4mQqCS2B1T"
      }
    },
    {
      "cell_type": "code",
      "source": [
        "#2/Utilisez une boucle while pour créer un menu d’options permettant à l’utilisateur d’ajouter, de supprimer ou d’afficher des éléments de la liste.\n",
        "while True:\n",
        "  print(\"Welcome to the application.\")\n",
        "  print(\"\\nMenu:\")\n",
        "  print(\"1. Add an item \")\n",
        "  print(\"2. Remove item \")\n",
        "  print(\"3. View shopping list\")\n",
        "  print(\"4. Quit\")\n",
        "\n",
        "#3/Utilisez la fonction input() pour inviter l'utilisateur à faire une sélection dans le menu.\n",
        "  choice = input(\"Enter your choice (1-4): \")\n",
        "#4/Utilisez un bloc if-elif-else pour déterminer la sélection de l'utilisateur et effectuer l'action correspondante.\n",
        "  if choice == \"1\":\n",
        "#6/limiter le nombre d'éléments pouvant être ajoutés à la liste.\n",
        "    max_item = 5\n",
        "    if len(shopping_list) >= max_item:\n",
        "      print(f\"You have reached the maximum number of items ({max_item}).\")\n",
        "      continue\n",
        "    item = input(\"Enter an item to add to the shopping list: \")\n",
        "    shopping_list.append(item)\n",
        "    print(f\"Your shopping list: {shopping_list}\")\n",
        "#6/utilisez la fonction input() pour l'inviter à saisir un élément à supprimer de la liste.\n",
        "  elif choice == \"2\":\n",
        "    item = input(\"Enter an item to remove from the shopping list: \")\n",
        "    if item in shopping_list:\n",
        "      shopping_list.remove(item)\n",
        "      print(f\"{item} has been removed from the shopping list.\")\n",
        "    else:\n",
        "      print(f\"{item} is not in the shopping list.\")\n",
        "#7/utilisez une boucle for pour parcourir la liste des éléments et les afficher à l'utilisateur.\n",
        "  elif choice == \"3\":\n",
        "    print(\"Current shopping list:\")\n",
        "    for item in shopping_list:\n",
        "      print(item)\n",
        "\n",
        "  elif choice == \"4\":\n",
        "    print(\"Goodbye!\")\n",
        "    break\n",
        "#Gestion des choix invalides.\n",
        "  else:\n",
        "    print(\"Invalid choice. Please try again.\")"
      ],
      "metadata": {
        "colab": {
          "base_uri": "https://localhost:8080/"
        },
        "id": "4lk9O1Su2Mtx",
        "outputId": "505d0949-6c3b-4eca-ca3f-88ce8569b984"
      },
      "execution_count": null,
      "outputs": [
        {
          "output_type": "stream",
          "name": "stdout",
          "text": [
            "Welcome to the application.\n",
            "\n",
            "Menu:\n",
            "1. Add an item \n",
            "2. Remove item \n",
            "3. View shopping list\n",
            "4. Quit\n",
            "Enter your choice (1-4): 1\n",
            "Enter an item to add to the shopping list: fish\n",
            "Your shopping list: ['water', 'fish']\n",
            "Welcome to the application.\n",
            "\n",
            "Menu:\n",
            "1. Add an item \n",
            "2. Remove item \n",
            "3. View shopping list\n",
            "4. Quit\n",
            "Enter your choice (1-4): 1\n",
            "Enter an item to add to the shopping list: milk\n",
            "Your shopping list: ['water', 'fish', 'milk']\n",
            "Welcome to the application.\n",
            "\n",
            "Menu:\n",
            "1. Add an item \n",
            "2. Remove item \n",
            "3. View shopping list\n",
            "4. Quit\n",
            "Enter your choice (1-4): eggs\n",
            "Invalid choice. Please try again.\n",
            "Welcome to the application.\n",
            "\n",
            "Menu:\n",
            "1. Add an item \n",
            "2. Remove item \n",
            "3. View shopping list\n",
            "4. Quit\n",
            "Enter your choice (1-4): 1\n",
            "Enter an item to add to the shopping list: cheese\n",
            "Your shopping list: ['water', 'fish', 'milk', 'cheese']\n",
            "Welcome to the application.\n",
            "\n",
            "Menu:\n",
            "1. Add an item \n",
            "2. Remove item \n",
            "3. View shopping list\n",
            "4. Quit\n",
            "Enter your choice (1-4): 1\n",
            "Enter an item to add to the shopping list: eggs\n",
            "Your shopping list: ['water', 'fish', 'milk', 'cheese', 'eggs']\n",
            "Welcome to the application.\n",
            "\n",
            "Menu:\n",
            "1. Add an item \n",
            "2. Remove item \n",
            "3. View shopping list\n",
            "4. Quit\n",
            "Enter your choice (1-4): 1\n",
            "You have reached the maximum number of items (5).\n",
            "Welcome to the application.\n",
            "\n",
            "Menu:\n",
            "1. Add an item \n",
            "2. Remove item \n",
            "3. View shopping list\n",
            "4. Quit\n",
            "Enter your choice (1-4): 4\n",
            "Goodbye!\n"
          ]
        }
      ]
    },
    {
      "cell_type": "markdown",
      "source": [
        "Voilà un programme qui permet à l'utilisateur de gérer une liste de courses, avec des options pour ajouter, supprimer et afficher les articles, ainsi que pour quitter l'application."
      ],
      "metadata": {
        "id": "TNAqpznP29w6"
      }
    }
  ]
}